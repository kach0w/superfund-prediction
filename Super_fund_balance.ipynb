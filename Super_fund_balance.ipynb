{
  "cells": [
    {
      "cell_type": "markdown",
      "id": "de9d1ce8",
      "metadata": {},
      "source": [
        "### some notes\n",
        "- dataset has 220,354 rows and 345 cols\n",
        "- Before SMOTE:\n",
        "  - 1271 1s | 219083 0s | 220354 total\n",
        "- After SMOTE:\n",
        "  - 219083 1s | 219083 0s | 438166 total\n"
      ]
    },
    {
      "cell_type": "code",
      "execution_count": 2,
      "id": "8c517876",
      "metadata": {
        "id": "8c517876"
      },
      "outputs": [],
      "source": [
        "import random\n",
        "import numpy as np\n",
        "import pandas as pd"
      ]
    },
    {
      "cell_type": "code",
      "execution_count": 3,
      "id": "6d23fd0f",
      "metadata": {
        "id": "6d23fd0f",
        "outputId": "ead5ef55-ff4b-4d58-d323-cff764fb9fce"
      },
      "outputs": [
        {
          "data": {
            "text/plain": [
              "(220354, 345)"
            ]
          },
          "execution_count": 3,
          "metadata": {},
          "output_type": "execute_result"
        }
      ],
      "source": [
        "df = pd.read_csv(r\"G:\\.shortcut-targets-by-id\\1skZ7uzhc7Ca-obn-mHBZYWLzbG1Bmrla\\Arya and Karthik S\\Code\\superfund data\\pdb_block_group.csv\")\n",
        "df.shape"
      ]
    },
    {
      "cell_type": "code",
      "execution_count": 4,
      "id": "955d96e0",
      "metadata": {
        "id": "955d96e0"
      },
      "outputs": [],
      "source": [
        "df = df.drop([\"FIPS_Block_Group\", \"Block_Group\", \"State\", \"County\", \"Tract\", \"Flag\", \"State_name\", \"County_name\"], axis=1);"
      ]
    },
    {
      "cell_type": "code",
      "execution_count": 5,
      "id": "a0405a01",
      "metadata": {
        "id": "a0405a01"
      },
      "outputs": [],
      "source": [
        "# removing with ACS columns\n",
        "cols_with_acs = []\n",
        "for col_name in df.columns:\n",
        "    if(\"ACS\" in col_name):\n",
        "        cols_with_acs.append(col_name)\n",
        "df = df.drop(cols_with_acs, axis=1)"
      ]
    },
    {
      "cell_type": "code",
      "execution_count": 7,
      "id": "710433b9",
      "metadata": {
        "id": "710433b9"
      },
      "outputs": [],
      "source": [
        "# imputing the nans\n",
        "from sklearn.impute import SimpleImputer\n",
        "imp = SimpleImputer(strategy='mean')\n",
        "df[df.columns] = imp.fit_transform(df[df.columns])"
      ]
    },
    {
      "cell_type": "code",
      "execution_count": 8,
      "id": "07815d5a",
      "metadata": {
        "id": "07815d5a",
        "outputId": "1446f73f-eb11-4662-d536-9a9443eee2f5"
      },
      "outputs": [
        {
          "data": {
            "text/plain": [
              "[]"
            ]
          },
          "execution_count": 8,
          "metadata": {},
          "output_type": "execute_result"
        }
      ],
      "source": [
        "# columns with all zeros\n",
        "cols = []\n",
        "for col in df.columns:\n",
        "    if (df[col] == 0).all():\n",
        "        cols.append(col)\n",
        "cols"
      ]
    },
    {
      "cell_type": "code",
      "execution_count": 9,
      "id": "36bb7607",
      "metadata": {
        "id": "36bb7607"
      },
      "outputs": [],
      "source": [
        "# Resampling\n",
        "X = df.drop('has_superfund', axis=1)\n",
        "y = df['has_superfund']"
      ]
    },
    {
      "cell_type": "code",
      "execution_count": 10,
      "id": "78247887",
      "metadata": {
        "id": "78247887",
        "outputId": "c7481564-8f8b-43f9-a80f-27458b2a7114"
      },
      "outputs": [
        {
          "name": "stderr",
          "output_type": "stream",
          "text": [
            "WARNING: Ignoring invalid distribution ~ywin32 (C:\\Users\\kar\\AppData\\Roaming\\Python\\Python311\\site-packages)\n",
            "WARNING: Skipping C:\\Users\\kar\\anaconda3\\envs\\asdfs\\Lib\\site-packages\\python_dateutil-2.8.2.dist-info due to invalid metadata entry 'name'\n",
            "WARNING: Ignoring invalid distribution ~ywin32 (C:\\Users\\kar\\AppData\\Roaming\\Python\\Python311\\site-packages)\n",
            "WARNING: Skipping C:\\Users\\kar\\anaconda3\\envs\\asdfs\\Lib\\site-packages\\python_dateutil-2.8.2.dist-info due to invalid metadata entry 'name'\n",
            "WARNING: Ignoring invalid distribution ~ywin32 (C:\\Users\\kar\\AppData\\Roaming\\Python\\Python311\\site-packages)\n",
            "WARNING: Skipping C:\\Users\\kar\\anaconda3\\envs\\asdfs\\Lib\\site-packages\\python_dateutil-2.8.2.dist-info due to invalid metadata entry 'name'\n",
            "WARNING: Ignoring invalid distribution ~ywin32 (C:\\Users\\kar\\AppData\\Roaming\\Python\\Python311\\site-packages)\n",
            "WARNING: Skipping C:\\Users\\kar\\anaconda3\\envs\\asdfs\\Lib\\site-packages\\python_dateutil-2.8.2.dist-info due to invalid metadata entry 'name'\n",
            "WARNING: Ignoring invalid distribution ~ywin32 (C:\\Users\\kar\\AppData\\Roaming\\Python\\Python311\\site-packages)\n",
            "WARNING: Ignoring invalid distribution ~ywin32 (C:\\Users\\kar\\AppData\\Roaming\\Python\\Python311\\site-packages)\n"
          ]
        },
        {
          "name": "stdout",
          "output_type": "stream",
          "text": [
            "Requirement already satisfied: imblearn in c:\\users\\kar\\anaconda3\\envs\\asdfs\\lib\\site-packages (0.0)\n",
            "Requirement already satisfied: imbalanced-learn in c:\\users\\kar\\anaconda3\\envs\\asdfs\\lib\\site-packages (from imblearn) (0.12.0)\n",
            "Requirement already satisfied: numpy>=1.17.3 in c:\\users\\kar\\anaconda3\\envs\\asdfs\\lib\\site-packages (from imbalanced-learn->imblearn) (1.26.4)\n",
            "Requirement already satisfied: scipy>=1.5.0 in c:\\users\\kar\\anaconda3\\envs\\asdfs\\lib\\site-packages (from imbalanced-learn->imblearn) (1.12.0)\n",
            "Requirement already satisfied: scikit-learn>=1.0.2 in c:\\users\\kar\\anaconda3\\envs\\asdfs\\lib\\site-packages (from imbalanced-learn->imblearn) (1.4.1.post1)\n",
            "Requirement already satisfied: joblib>=1.1.1 in c:\\users\\kar\\anaconda3\\envs\\asdfs\\lib\\site-packages (from imbalanced-learn->imblearn) (1.3.2)\n",
            "Requirement already satisfied: threadpoolctl>=2.0.0 in c:\\users\\kar\\anaconda3\\envs\\asdfs\\lib\\site-packages (from imbalanced-learn->imblearn) (3.3.0)\n",
            "Note: you may need to restart the kernel to use updated packages.\n",
            "Before has_superfund\n",
            "0.0    219083\n",
            "1.0      1271\n",
            "Name: count, dtype: int64\n",
            "After has_superfund\n",
            "0.0    219083\n",
            "1.0    219083\n",
            "Name: count, dtype: int64\n"
          ]
        }
      ],
      "source": [
        "%pip install imblearn\n",
        "from imblearn.over_sampling import SMOTE\n",
        "print('Before', y.value_counts())\n",
        "smt = SMOTE()\n",
        "X_resampled, y_resampled = smt.fit_resample(X, y)\n",
        "print('After', y_resampled.value_counts())"
      ]
    },
    {
      "cell_type": "code",
      "execution_count": 11,
      "id": "3ab726c8",
      "metadata": {
        "id": "3ab726c8"
      },
      "outputs": [],
      "source": [
        "# setting the new df\n",
        "df = pd.concat([pd.DataFrame(X_resampled, columns=X.columns), pd.Series(y_resampled, name='has_superfund')], axis=1)"
      ]
    },
    {
      "cell_type": "code",
      "execution_count": 12,
      "id": "4e275c0c",
      "metadata": {
        "id": "4e275c0c",
        "outputId": "2e49a41b-3632-4377-b397-b209cce0473f"
      },
      "outputs": [
        {
          "data": {
            "text/plain": [
              "Index(['pct_NH_White_alone_CEN_2010', 'pct_Males_CEN_2010',\n",
              "       'NH_White_alone_CEN_2010', 'pct_URBAN_CLUSTER_POP_CEN_2010',\n",
              "       'pct_Tot_GQ_CEN_2010', 'URBAN_CLUSTER_POP_CEN_2010',\n",
              "       'pct_Census_UAA_CEN_2010', 'pct_Non_Inst_GQ_CEN_2010',\n",
              "       'RURAL_POP_CEN_2010', 'pct_RURAL_POP_CEN_2010'],\n",
              "      dtype='object')"
            ]
          },
          "execution_count": 12,
          "metadata": {},
          "output_type": "execute_result"
        }
      ],
      "source": [
        "correlations = df.corr()\n",
        "target_correlation = correlations['has_superfund'].sort_values(ascending=False)\n",
        "high_corr_columns = target_correlation.iloc[1:][:10].index\n",
        "high_corr_columns"
      ]
    },
    {
      "cell_type": "code",
      "execution_count": 13,
      "id": "517a861b",
      "metadata": {},
      "outputs": [
        {
          "data": {
            "text/plain": [
              "(438166, 97)"
            ]
          },
          "execution_count": 13,
          "metadata": {},
          "output_type": "execute_result"
        }
      ],
      "source": [
        "df.shape"
      ]
    },
    {
      "cell_type": "code",
      "execution_count": null,
      "id": "98ac9bc4",
      "metadata": {
        "id": "98ac9bc4",
        "outputId": "ff67d7de-71dd-4fb2-de13-6ab1ff77abde"
      },
      "outputs": [
        {
          "data": {
            "text/plain": [
              "1.0    2515\n",
              "0.0    2485\n",
              "Name: has_superfund, dtype: int64"
            ]
          },
          "execution_count": 12,
          "metadata": {},
          "output_type": "execute_result"
        }
      ],
      "source": [
        "#df = df.sample(5000)\n",
        "#df[\"has_superfund\"].value_counts()"
      ]
    },
    {
      "cell_type": "code",
      "execution_count": 14,
      "id": "362fcdcd",
      "metadata": {
        "id": "362fcdcd"
      },
      "outputs": [
        {
          "ename": "",
          "evalue": "",
          "output_type": "error",
          "traceback": [
            "\u001b[1;31mThe Kernel crashed while executing code in the current cell or a previous cell. \n",
            "\u001b[1;31mPlease review the code in the cell(s) to identify a possible cause of the failure. \n",
            "\u001b[1;31mClick <a href='https://aka.ms/vscodeJupyterKernelCrash'>here</a> for more info. \n",
            "\u001b[1;31mView Jupyter <a href='command:jupyter.viewOutput'>log</a> for further details."
          ]
        }
      ],
      "source": [
        "df.to_csv(r\"G:\\.shortcut-targets-by-id\\1skZ7uzhc7Ca-obn-mHBZYWLzbG1Bmrla\\Arya and Karthik S\\Code\\preprocessed_superfunds.csv\", encoding='utf-8', index=False)\n",
        "\n",
        "# bkasd\\fasdf"
      ]
    }
  ],
  "metadata": {
    "colab": {
      "provenance": []
    },
    "kernelspec": {
      "display_name": "Python 3 (ipykernel)",
      "language": "python",
      "name": "python3"
    },
    "language_info": {
      "codemirror_mode": {
        "name": "ipython",
        "version": 3
      },
      "file_extension": ".py",
      "mimetype": "text/x-python",
      "name": "python",
      "nbconvert_exporter": "python",
      "pygments_lexer": "ipython3",
      "version": "3.11.7"
    }
  },
  "nbformat": 4,
  "nbformat_minor": 5
}
